{
  "nbformat": 4,
  "nbformat_minor": 0,
  "metadata": {
    "colab": {
      "provenance": []
    },
    "kernelspec": {
      "name": "python3",
      "display_name": "Python 3"
    }
  },
  "cells": [
    {
      "cell_type": "code",
      "metadata": {
        "id": "a6xFwUTH-Jxw"
      },
      "source": [
        "import pandas as pd\n",
        "import numpy as np\n",
        "import matplotlib as matlab\n",
        "import statsmodels"
      ],
      "execution_count": null,
      "outputs": []
    },
    {
      "cell_type": "markdown",
      "metadata": {
        "id": "19Xrwq2g-OTp"
      },
      "source": [
        "# Correlation"
      ]
    },
    {
      "cell_type": "code",
      "metadata": {
        "id": "5w_nsSUA-Z3e",
        "colab": {
          "base_uri": "https://localhost:8080/"
        },
        "outputId": "56cd633a-77da-406e-c2e8-9d9a51700b07"
      },
      "source": [
        "air = pd.read_csv(\"https://raw.githubusercontent.com/venkatareddykonasani/Datasets/master/AirPassengers/AirPassengers.csv\")\n",
        "air.info()"
      ],
      "execution_count": null,
      "outputs": [
        {
          "output_type": "stream",
          "name": "stdout",
          "text": [
            "<class 'pandas.core.frame.DataFrame'>\n",
            "RangeIndex: 80 entries, 0 to 79\n",
            "Data columns (total 9 columns):\n",
            " #   Column                        Non-Null Count  Dtype  \n",
            "---  ------                        --------------  -----  \n",
            " 0   Week_num                      80 non-null     int64  \n",
            " 1   Passengers                    80 non-null     int64  \n",
            " 2   Promotion_Budget              80 non-null     int64  \n",
            " 3   Service_Quality_Score         80 non-null     float64\n",
            " 4   Holiday_week                  80 non-null     object \n",
            " 5   Delayed_Cancelled_flight_ind  80 non-null     object \n",
            " 6   Inter_metro_flight_ratio      80 non-null     float64\n",
            " 7   Bad_Weather_Ind               80 non-null     object \n",
            " 8   Technical_issues_ind          80 non-null     object \n",
            "dtypes: float64(2), int64(3), object(4)\n",
            "memory usage: 5.8+ KB\n"
          ]
        }
      ]
    },
    {
      "cell_type": "code",
      "metadata": {
        "id": "BjVd057a-3px"
      },
      "source": [
        "#Find the correlation between number of passengers and promotional budget.\n",
        "np.corrcoef(air.Passengers,air.Promotion_Budget)"
      ],
      "execution_count": null,
      "outputs": []
    },
    {
      "cell_type": "markdown",
      "metadata": {
        "id": "ou0-Mlep--gt"
      },
      "source": [
        "# Regression"
      ]
    },
    {
      "cell_type": "code",
      "metadata": {
        "id": "PKQxiD_B-9Z9",
        "colab": {
          "base_uri": "https://localhost:8080/"
        },
        "outputId": "7af61e7c-3b47-4cc3-d166-42807e1408a3"
      },
      "source": [
        "import statsmodels.formula.api as sm\n",
        "model = sm.ols(formula='Passengers ~ Promotion_Budget', data=air)\n",
        "fitted1 = model.fit()\n",
        "print(fitted1.summary())"
      ],
      "execution_count": null,
      "outputs": [
        {
          "output_type": "stream",
          "name": "stdout",
          "text": [
            "                            OLS Regression Results                            \n",
            "==============================================================================\n",
            "Dep. Variable:             Passengers   R-squared:                       0.933\n",
            "Model:                            OLS   Adj. R-squared:                  0.932\n",
            "Method:                 Least Squares   F-statistic:                     1084.\n",
            "Date:                Sat, 05 Oct 2024   Prob (F-statistic):           1.66e-47\n",
            "Time:                        05:40:46   Log-Likelihood:                -751.34\n",
            "No. Observations:                  80   AIC:                             1507.\n",
            "Df Residuals:                      78   BIC:                             1511.\n",
            "Df Model:                           1                                         \n",
            "Covariance Type:            nonrobust                                         \n",
            "====================================================================================\n",
            "                       coef    std err          t      P>|t|      [0.025      0.975]\n",
            "------------------------------------------------------------------------------------\n",
            "Intercept         1259.6058   1361.071      0.925      0.358   -1450.078    3969.290\n",
            "Promotion_Budget     0.0695      0.002     32.923      0.000       0.065       0.074\n",
            "==============================================================================\n",
            "Omnibus:                       26.624   Durbin-Watson:                   1.831\n",
            "Prob(Omnibus):                  0.000   Jarque-Bera (JB):                5.188\n",
            "Skew:                          -0.128   Prob(JB):                       0.0747\n",
            "Kurtosis:                       1.779   Cond. No.                     2.67e+06\n",
            "==============================================================================\n",
            "\n",
            "Notes:\n",
            "[1] Standard Errors assume that the covariance matrix of the errors is correctly specified.\n",
            "[2] The condition number is large, 2.67e+06. This might indicate that there are\n",
            "strong multicollinearity or other numerical problems.\n"
          ]
        }
      ]
    },
    {
      "cell_type": "code",
      "metadata": {
        "id": "eh3IX6k-_Ecm"
      },
      "source": [
        "#b0 ==> Intercept  ==>\n",
        "#b1 ===> coeff prmo budget ==>"
      ],
      "execution_count": null,
      "outputs": []
    },
    {
      "cell_type": "code",
      "metadata": {
        "id": "MPKb3Rjm9h1Y"
      },
      "source": [
        "# y = b0 +b1*x\n",
        "# Passengers = 1259.6058 + 0.0695 * (promo_budget)\n",
        "# promo_budget = 500,000 ==> Predict passengers ?\n",
        "\n",
        "1259.6058 + 0.0695 * (500000)"
      ],
      "execution_count": null,
      "outputs": []
    },
    {
      "cell_type": "markdown",
      "metadata": {
        "id": "Q4mqQjN9_T59"
      },
      "source": [
        "# R Squared"
      ]
    },
    {
      "cell_type": "code",
      "metadata": {
        "id": "GJl6yQJa_L4m",
        "colab": {
          "base_uri": "https://localhost:8080/"
        },
        "outputId": "fc125821-2834-48fa-8c0c-32def29be942"
      },
      "source": [
        "##Regression Model inter_metro_flight_ratio and passengers count\n",
        "#matlab.pyplot.scatter(air.Inter_metro_flight_ratio,air.Passengers)\n",
        "\n",
        "import statsmodels.formula.api as sm\n",
        "model = sm.ols(formula='Passengers ~ Inter_metro_flight_ratio', data=air)\n",
        "fitted2 = model.fit()\n",
        "print(fitted2.summary())"
      ],
      "execution_count": null,
      "outputs": [
        {
          "output_type": "stream",
          "name": "stdout",
          "text": [
            "                            OLS Regression Results                            \n",
            "==============================================================================\n",
            "Dep. Variable:             Passengers   R-squared:                       0.242\n",
            "Model:                            OLS   Adj. R-squared:                  0.232\n",
            "Method:                 Least Squares   F-statistic:                     24.90\n",
            "Date:                Sat, 05 Oct 2024   Prob (F-statistic):           3.58e-06\n",
            "Time:                        05:41:20   Log-Likelihood:                -848.30\n",
            "No. Observations:                  80   AIC:                             1701.\n",
            "Df Residuals:                      78   BIC:                             1705.\n",
            "Df Model:                           1                                         \n",
            "Covariance Type:            nonrobust                                         \n",
            "============================================================================================\n",
            "                               coef    std err          t      P>|t|      [0.025      0.975]\n",
            "--------------------------------------------------------------------------------------------\n",
            "Intercept                 2.044e+04   4993.747      4.093      0.000    1.05e+04    3.04e+04\n",
            "Inter_metro_flight_ratio  3.507e+04   7027.768      4.990      0.000    2.11e+04    4.91e+04\n",
            "==============================================================================\n",
            "Omnibus:                       10.172   Durbin-Watson:                   1.385\n",
            "Prob(Omnibus):                  0.006   Jarque-Bera (JB):               10.098\n",
            "Skew:                           0.822   Prob(JB):                      0.00641\n",
            "Kurtosis:                       3.573   Cond. No.                         9.48\n",
            "==============================================================================\n",
            "\n",
            "Notes:\n",
            "[1] Standard Errors assume that the covariance matrix of the errors is correctly specified.\n"
          ]
        }
      ]
    },
    {
      "cell_type": "markdown",
      "metadata": {
        "id": "nLqhPNeL_axO"
      },
      "source": [
        "# Multiple Regerssion Model"
      ]
    },
    {
      "cell_type": "code",
      "metadata": {
        "id": "-hpy_86N_Or8",
        "colab": {
          "base_uri": "https://localhost:8080/"
        },
        "outputId": "058a8b08-867a-4e08-de7f-be4761046f2c"
      },
      "source": [
        "model = sm.ols(formula='Passengers ~ Promotion_Budget+Service_Quality_Score+Inter_metro_flight_ratio', data=air)\n",
        "fitted = model.fit()\n",
        "print(fitted.summary())"
      ],
      "execution_count": null,
      "outputs": [
        {
          "output_type": "stream",
          "name": "stdout",
          "text": [
            "                            OLS Regression Results                            \n",
            "==============================================================================\n",
            "Dep. Variable:             Passengers   R-squared:                       0.951\n",
            "Model:                            OLS   Adj. R-squared:                  0.949\n",
            "Method:                 Least Squares   F-statistic:                     495.6\n",
            "Date:                Sat, 05 Oct 2024   Prob (F-statistic):           8.71e-50\n",
            "Time:                        05:41:32   Log-Likelihood:                -738.45\n",
            "No. Observations:                  80   AIC:                             1485.\n",
            "Df Residuals:                      76   BIC:                             1494.\n",
            "Df Model:                           3                                         \n",
            "Covariance Type:            nonrobust                                         \n",
            "============================================================================================\n",
            "                               coef    std err          t      P>|t|      [0.025      0.975]\n",
            "--------------------------------------------------------------------------------------------\n",
            "Intercept                 1.921e+04   3542.694      5.424      0.000    1.22e+04    2.63e+04\n",
            "Promotion_Budget             0.0555      0.004     15.476      0.000       0.048       0.063\n",
            "Service_Quality_Score    -2802.0708    530.382     -5.283      0.000   -3858.419   -1745.723\n",
            "Inter_metro_flight_ratio -2003.4508   2129.095     -0.941      0.350   -6243.912    2237.010\n",
            "==============================================================================\n",
            "Omnibus:                        6.902   Durbin-Watson:                   2.312\n",
            "Prob(Omnibus):                  0.032   Jarque-Bera (JB):                2.759\n",
            "Skew:                          -0.051   Prob(JB):                        0.252\n",
            "Kurtosis:                       2.096   Cond. No.                     8.22e+06\n",
            "==============================================================================\n",
            "\n",
            "Notes:\n",
            "[1] Standard Errors assume that the covariance matrix of the errors is correctly specified.\n",
            "[2] The condition number is large, 8.22e+06. This might indicate that there are\n",
            "strong multicollinearity or other numerical problems.\n"
          ]
        }
      ]
    },
    {
      "cell_type": "code",
      "source": [
        "# importing requuired libraries\n",
        "import numpy as np\n",
        "import pandas as pd\n",
        "from pandas import Series, DataFrame\n",
        "from sklearn.model_selection import train_test_split\n",
        "from sklearn.linear_model import LinearRegression\n",
        "from sklearn.linear_model import Lasso, Ridge"
      ],
      "metadata": {
        "id": "cNdTG8IyNHPH"
      },
      "execution_count": null,
      "outputs": []
    },
    {
      "cell_type": "code",
      "source": [
        "x_train, x_cv, y_train, y_cv = train_test_split(\n",
        "    air[['Promotion_Budget','Service_Quality_Score','Inter_metro_flight_ratio']], # Select only numerical features for X\n",
        "    air.Passengers,\n",
        "    random_state=5\n",
        ")\n"
      ],
      "metadata": {
        "id": "kYJ12OolNev1"
      },
      "execution_count": null,
      "outputs": []
    },
    {
      "cell_type": "code",
      "source": [
        "x_cv.info()"
      ],
      "metadata": {
        "colab": {
          "base_uri": "https://localhost:8080/"
        },
        "id": "W0XEAUy4O1K1",
        "outputId": "1783a094-664d-406a-d191-354324dd317f"
      },
      "execution_count": null,
      "outputs": [
        {
          "output_type": "stream",
          "name": "stdout",
          "text": [
            "<class 'pandas.core.frame.DataFrame'>\n",
            "Index: 20 entries, 40 to 6\n",
            "Data columns (total 3 columns):\n",
            " #   Column                    Non-Null Count  Dtype  \n",
            "---  ------                    --------------  -----  \n",
            " 0   Promotion_Budget          20 non-null     int64  \n",
            " 1   Service_Quality_Score     20 non-null     float64\n",
            " 2   Inter_metro_flight_ratio  20 non-null     float64\n",
            "dtypes: float64(2), int64(1)\n",
            "memory usage: 640.0 bytes\n"
          ]
        }
      ]
    },
    {
      "cell_type": "code",
      "source": [
        "print('--------Trainig Linear Regression Model---------------')\n",
        "lreg = LinearRegression()\n",
        "#training the model\n",
        "lreg.fit(x_train,y_train)\n",
        "\n",
        "#predicting on cv\n",
        "pred = lreg.predict(x_cv)\n",
        "\n",
        "#calculating mse\n",
        "mse = np.mean((pred - y_cv)**2)\n",
        "print('\\nMean Sqaured Error = ',mse )\n",
        "\n"
      ],
      "metadata": {
        "colab": {
          "base_uri": "https://localhost:8080/"
        },
        "id": "UCEKljogPkYy",
        "outputId": "e61af3f9-a0a1-4724-b362-145b69738577"
      },
      "execution_count": null,
      "outputs": [
        {
          "output_type": "stream",
          "name": "stdout",
          "text": [
            "--------Trainig Linear Regression Model---------------\n",
            "\n",
            "Mean Sqaured Error =  6475260.603482924\n"
          ]
        }
      ]
    },
    {
      "cell_type": "code",
      "source": [
        "coeff = DataFrame(x_train.columns)\n",
        "\n",
        "coeff['Coefficient Estimate'] = Series(lreg.coef_)\n",
        "\n",
        "print(coeff)\n",
        "\n",
        "print('\\n\\nModel performance on Test data = ')\n",
        "print(lreg.score(x_cv,y_cv))"
      ],
      "metadata": {
        "id": "SG4Ku-PWRDSv",
        "outputId": "23ca8099-c131-4138-b849-e44c688dd714",
        "colab": {
          "base_uri": "https://localhost:8080/"
        }
      },
      "execution_count": null,
      "outputs": [
        {
          "output_type": "stream",
          "name": "stdout",
          "text": [
            "                          0  Coefficient Estimate\n",
            "0          Promotion_Budget              0.055935\n",
            "1     Service_Quality_Score          -2759.555891\n",
            "2  Inter_metro_flight_ratio          -1946.744460\n",
            "\n",
            "\n",
            "Model performance on Test data = \n",
            "0.9362500007790436\n"
          ]
        }
      ]
    },
    {
      "cell_type": "markdown",
      "metadata": {
        "id": "muIuylOi_kuM"
      },
      "source": [
        "# Individual variables impact"
      ]
    },
    {
      "cell_type": "code",
      "metadata": {
        "id": "HaFY86Hq_hfN"
      },
      "source": [
        "#Are there any predictor variables that are not impacting the dependent variable\n",
        "##Inter_metro_flight_ratio is dropped\n",
        "import statsmodels.formula.api as sm\n",
        "model = sm.ols(formula='Passengers ~ Promotion_Budget+Service_Quality_Score', data=air)\n",
        "fitted = model.fit()\n",
        "print(fitted.summary())"
      ],
      "execution_count": null,
      "outputs": []
    },
    {
      "cell_type": "code",
      "metadata": {
        "id": "KQOZhKte_tbj"
      },
      "source": [
        "import statsmodels.formula.api as sm\n",
        "model = sm.ols(formula='Passengers ~ Service_Quality_Score', data=air)\n",
        "fitted = model.fit()\n",
        "print(fitted.summary())"
      ],
      "execution_count": null,
      "outputs": []
    },
    {
      "cell_type": "markdown",
      "metadata": {
        "id": "p-vPsbPn_32F"
      },
      "source": [
        "# Adjusted R-Square"
      ]
    },
    {
      "cell_type": "code",
      "metadata": {
        "id": "ovSvLsfA_wib"
      },
      "source": [
        "adj_sample=pd.read_csv(\"https://raw.githubusercontent.com/venkatareddykonasani/Datasets/master/Adjusted%20RSquare/Adj_Sample.csv\")\n",
        "#Build a model to predict y using x1,x2 and x3. Note down R-Square and Adj R-Square values\n",
        "model = sm.ols(formula='Y ~ x1+x2+x3', data=adj_sample)\n",
        "fitted = model.fit()\n",
        "print(fitted.summary())\n",
        "#R-Squared"
      ],
      "execution_count": null,
      "outputs": []
    },
    {
      "cell_type": "code",
      "metadata": {
        "id": "e9yKv5qDADA9"
      },
      "source": [
        "#Model2\n",
        "model = sm.ols(formula='Y ~ x1+x2+x3+x4+x5+x6', data=adj_sample)\n",
        "fitted = model.fit()\n",
        "print(fitted.summary())"
      ],
      "execution_count": null,
      "outputs": []
    },
    {
      "cell_type": "code",
      "metadata": {
        "id": "yLxGHZnRAKl_"
      },
      "source": [
        "#Model3\n",
        "model = sm.ols(formula='Y ~ x1+x2+x3+x4+x5+x6+x7+x8', data=adj_sample)\n",
        "fitted = model.fit()\n",
        "print(fitted.summary())"
      ],
      "execution_count": null,
      "outputs": []
    },
    {
      "cell_type": "markdown",
      "metadata": {
        "id": "iYoq4GaiAPsA"
      },
      "source": [
        "# Multiple Regression- issues"
      ]
    },
    {
      "cell_type": "code",
      "metadata": {
        "id": "b5UlwdLCALD4"
      },
      "source": [
        "#Import Regional Sales data\n",
        "regional_sales=pd.read_csv(\"https://raw.githubusercontent.com/venkatareddykonasani/Datasets/master/Regional_Sales/Sales_by_Region.csv\")\n",
        "\n",
        "#Variable names\n",
        "regional_sales.columns"
      ],
      "execution_count": null,
      "outputs": []
    },
    {
      "cell_type": "code",
      "metadata": {
        "id": "hc6i_1q-AbUT"
      },
      "source": [
        "model1 = sm.ols(formula='Regional_Sales ~ Avg_Income+Avg_Expenses+Percent_Male+Percent_Female', data=regional_sales)\n",
        "fitted1 = model1.fit()\n",
        "print(fitted1.summary())"
      ],
      "execution_count": null,
      "outputs": []
    },
    {
      "cell_type": "markdown",
      "metadata": {
        "id": "Ipa7gOWJm_gY"
      },
      "source": [
        "Model After dropping Avg Income"
      ]
    },
    {
      "cell_type": "code",
      "metadata": {
        "id": "U-H9it5jApez"
      },
      "source": [
        "model1 = sm.ols(formula='Regional_Sales ~ Avg_Expenses+Percent_Male+Percent_Female', data=regional_sales)\n",
        "fitted1 = model1.fit()\n",
        "print(fitted1.summary())"
      ],
      "execution_count": null,
      "outputs": []
    },
    {
      "cell_type": "markdown",
      "metadata": {
        "id": "ROTfGpTNnJsR"
      },
      "source": [
        "## VIF"
      ]
    },
    {
      "cell_type": "code",
      "metadata": {
        "id": "ZTTfVYFYAzGH"
      },
      "source": [
        "#Code for VIF Calculation\n",
        "#Writing a function to calculate the VIF values\n",
        "\n",
        "def vif_cal(input_data):\n",
        "    x_vars = input_data\n",
        "    xvar_names=x_vars.columns\n",
        "    for i in range(0,xvar_names.shape[0]):\n",
        "        y=x_vars[xvar_names[i]]\n",
        "        x=x_vars[xvar_names.drop(xvar_names[i])]\n",
        "        rsq=sm.ols(formula=\"y~x\", data=x_vars).fit().rsquared\n",
        "        vif=round(1/(1-rsq),2)\n",
        "        print (xvar_names[i], \" VIF = \" , vif)"
      ],
      "execution_count": null,
      "outputs": []
    },
    {
      "cell_type": "code",
      "metadata": {
        "id": "sOCQVbdbA6eL"
      },
      "source": [
        "#Calculating VIF values using that function\n",
        "X_Data=regional_sales.drop([\"Region_id\",\"Regional_Sales\"],axis=1)\n",
        "vif_cal(input_data=X_Data)"
      ],
      "execution_count": null,
      "outputs": []
    },
    {
      "cell_type": "code",
      "metadata": {
        "id": "zt6gIIZSA9Ra"
      },
      "source": [
        "vif_cal(input_data=X_Data.drop([\"Avg_Income\"], axis=1))"
      ],
      "execution_count": null,
      "outputs": []
    },
    {
      "cell_type": "code",
      "metadata": {
        "id": "g2oafXb4A_hN"
      },
      "source": [
        "vif_cal(input_data=X_Data.drop([\"Avg_Income\",\"Percent_Female\"], axis=1))"
      ],
      "execution_count": null,
      "outputs": []
    },
    {
      "cell_type": "code",
      "metadata": {
        "id": "P0suyPm5oIXA"
      },
      "source": [
        "model1 = sm.ols(formula='Regional_Sales ~ Avg_Expenses+Percent_Male', data=regional_sales)\n",
        "fitted1 = model1.fit()\n",
        "print(fitted1.summary())"
      ],
      "execution_count": null,
      "outputs": []
    },
    {
      "cell_type": "markdown",
      "metadata": {
        "id": "F4AMj-H2BDSu"
      },
      "source": [
        "# Multiple Regression model building steps"
      ]
    },
    {
      "cell_type": "code",
      "metadata": {
        "id": "Vn4vQfXuBA9J"
      },
      "source": [
        "Webpage_Product_Sales=pd.read_csv(\"https://raw.githubusercontent.com/venkatareddykonasani/Datasets/master/Webpage_Product_Sales/Webpage_Product_Sales.csv\")\n",
        "Webpage_Product_Sales.shape\n",
        "Webpage_Product_Sales.columns"
      ],
      "execution_count": null,
      "outputs": []
    },
    {
      "cell_type": "code",
      "metadata": {
        "id": "PkD4fxW4BOgB"
      },
      "source": [
        "model1 = sm.ols(formula='Sales ~ Web_UI_Score+Server_Down_time_Sec+Holiday+Special_Discount+Clicks_From_Serach_Engine+Online_Ad_Paid_ref_links+Social_Network_Ref_links+Month+Weekday+DayofMonth', data=Webpage_Product_Sales)\n",
        "fitted1 = model1.fit()\n",
        "print(fitted1.summary())"
      ],
      "execution_count": null,
      "outputs": []
    },
    {
      "cell_type": "code",
      "metadata": {
        "id": "4B4MbKtvhnqT"
      },
      "source": [
        "model1 = sm.ols(formula='Sales ~ Web_UI_Score+Server_Down_time_Sec+Holiday+Special_Discount+Online_Ad_Paid_ref_links+Social_Network_Ref_links+Month+Weekday+DayofMonth', data=Webpage_Product_Sales)\n",
        "fitted1 = model1.fit()\n",
        "print(fitted1.summary())"
      ],
      "execution_count": null,
      "outputs": []
    },
    {
      "cell_type": "code",
      "metadata": {
        "id": "R7UvipUiBTVh"
      },
      "source": [
        "#VIF\n",
        "vif_cal(Webpage_Product_Sales.drop(\"Clicks_From_Serach_Engine\", axis=1),\"Sales\")"
      ],
      "execution_count": null,
      "outputs": []
    },
    {
      "cell_type": "code",
      "metadata": {
        "id": "FOSR-tYzBVeb"
      },
      "source": [
        "model1 = sm.ols(formula='Sales ~ Web_UI_Score+Server_Down_time_Sec+Holiday+Special_Discount+Online_Ad_Paid_ref_links+Social_Network_Ref_links+Month+Weekday+DayofMonth', data=Webpage_Product_Sales)\n",
        "fitted1 = model1.fit()\n",
        "print(fitted1.summary())"
      ],
      "execution_count": null,
      "outputs": []
    }
  ]
}